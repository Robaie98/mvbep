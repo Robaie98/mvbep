{
 "cells": [
  {
   "cell_type": "markdown",
   "id": "58e34e07",
   "metadata": {},
   "source": [
    "## Definition"
   ]
  },
  {
   "cell_type": "markdown",
   "id": "1f846754",
   "metadata": {},
   "source": [
    "This is an application of the MVBEP tool on Jupyter Notebook. "
   ]
  },
  {
   "cell_type": "markdown",
   "id": "74bd201c",
   "metadata": {},
   "source": [
    "## Loading Libraries"
   ]
  },
  {
   "cell_type": "code",
   "execution_count": 1,
   "id": "384fb0a5",
   "metadata": {},
   "outputs": [],
   "source": [
    "import pandas as pd\n",
    "import numpy as np\n",
    "import importlib"
   ]
  },
  {
   "cell_type": "markdown",
   "id": "979ea7c6",
   "metadata": {},
   "source": [
    "## Loading MVBEP "
   ]
  },
  {
   "cell_type": "code",
   "execution_count": 2,
   "id": "5fb9d1a0",
   "metadata": {},
   "outputs": [],
   "source": [
    "import mvbep.mvbep\n",
    "importlib.reload(mvbep.mvbep)\n",
    "from mvbep.mvbep import MVBEP "
   ]
  },
  {
   "cell_type": "markdown",
   "id": "f41a17f2",
   "metadata": {},
   "source": [
    "## Loading Data"
   ]
  },
  {
   "cell_type": "markdown",
   "id": "437b065a",
   "metadata": {},
   "source": [
    "The loaded data pertains to two periods: pre-retrofit and post-retrofit."
   ]
  },
  {
   "cell_type": "code",
   "execution_count": 22,
   "id": "4e4203d3",
   "metadata": {},
   "outputs": [],
   "source": [
    "df_pre = pd.read_csv('data/df_pre.csv')\n",
    "df_pre = df_pre.iloc[:,1:]\n",
    "df_post = pd.read_csv('data/df_post.csv')\n",
    "df_post = df_post.iloc[:,2:]"
   ]
  },
  {
   "cell_type": "code",
   "execution_count": 23,
   "id": "b477c43a",
   "metadata": {},
   "outputs": [
    {
     "data": {
      "text/html": [
       "<div>\n",
       "<style scoped>\n",
       "    .dataframe tbody tr th:only-of-type {\n",
       "        vertical-align: middle;\n",
       "    }\n",
       "\n",
       "    .dataframe tbody tr th {\n",
       "        vertical-align: top;\n",
       "    }\n",
       "\n",
       "    .dataframe thead th {\n",
       "        text-align: right;\n",
       "    }\n",
       "</style>\n",
       "<table border=\"1\" class=\"dataframe\">\n",
       "  <thead>\n",
       "    <tr style=\"text-align: right;\">\n",
       "      <th></th>\n",
       "      <th>energy</th>\n",
       "      <th>timestamp</th>\n",
       "      <th>dry_temp</th>\n",
       "      <th>relative_humid</th>\n",
       "      <th>wind_speed</th>\n",
       "      <th>wind_dir</th>\n",
       "      <th>glob_hor_rad</th>\n",
       "      <th>direc_norm_rad</th>\n",
       "      <th>diff_hor_rad</th>\n",
       "    </tr>\n",
       "  </thead>\n",
       "  <tbody>\n",
       "    <tr>\n",
       "      <th>0</th>\n",
       "      <td>30.183843</td>\n",
       "      <td>2018-01-02 23:00:00</td>\n",
       "      <td>-13.2</td>\n",
       "      <td>84.017774</td>\n",
       "      <td>0.0</td>\n",
       "      <td>0.0</td>\n",
       "      <td>0.0</td>\n",
       "      <td>0.0</td>\n",
       "      <td>0.0</td>\n",
       "    </tr>\n",
       "    <tr>\n",
       "      <th>1</th>\n",
       "      <td>30.893839</td>\n",
       "      <td>2018-01-02 23:15:00</td>\n",
       "      <td>-13.2</td>\n",
       "      <td>84.017774</td>\n",
       "      <td>0.0</td>\n",
       "      <td>0.0</td>\n",
       "      <td>0.0</td>\n",
       "      <td>0.0</td>\n",
       "      <td>0.0</td>\n",
       "    </tr>\n",
       "    <tr>\n",
       "      <th>2</th>\n",
       "      <td>31.671506</td>\n",
       "      <td>2018-01-02 23:30:00</td>\n",
       "      <td>-13.2</td>\n",
       "      <td>84.017774</td>\n",
       "      <td>0.0</td>\n",
       "      <td>0.0</td>\n",
       "      <td>0.0</td>\n",
       "      <td>0.0</td>\n",
       "      <td>0.0</td>\n",
       "    </tr>\n",
       "    <tr>\n",
       "      <th>3</th>\n",
       "      <td>32.588788</td>\n",
       "      <td>2018-01-02 23:45:00</td>\n",
       "      <td>-13.2</td>\n",
       "      <td>84.017774</td>\n",
       "      <td>0.0</td>\n",
       "      <td>0.0</td>\n",
       "      <td>0.0</td>\n",
       "      <td>0.0</td>\n",
       "      <td>0.0</td>\n",
       "    </tr>\n",
       "    <tr>\n",
       "      <th>4</th>\n",
       "      <td>33.552270</td>\n",
       "      <td>2018-01-03 00:00:00</td>\n",
       "      <td>-12.3</td>\n",
       "      <td>81.834433</td>\n",
       "      <td>0.0</td>\n",
       "      <td>0.0</td>\n",
       "      <td>0.0</td>\n",
       "      <td>0.0</td>\n",
       "      <td>0.0</td>\n",
       "    </tr>\n",
       "  </tbody>\n",
       "</table>\n",
       "</div>"
      ],
      "text/plain": [
       "      energy            timestamp  dry_temp  relative_humid  wind_speed  \\\n",
       "0  30.183843  2018-01-02 23:00:00     -13.2       84.017774         0.0   \n",
       "1  30.893839  2018-01-02 23:15:00     -13.2       84.017774         0.0   \n",
       "2  31.671506  2018-01-02 23:30:00     -13.2       84.017774         0.0   \n",
       "3  32.588788  2018-01-02 23:45:00     -13.2       84.017774         0.0   \n",
       "4  33.552270  2018-01-03 00:00:00     -12.3       81.834433         0.0   \n",
       "\n",
       "   wind_dir  glob_hor_rad  direc_norm_rad  diff_hor_rad  \n",
       "0       0.0           0.0             0.0           0.0  \n",
       "1       0.0           0.0             0.0           0.0  \n",
       "2       0.0           0.0             0.0           0.0  \n",
       "3       0.0           0.0             0.0           0.0  \n",
       "4       0.0           0.0             0.0           0.0  "
      ]
     },
     "execution_count": 23,
     "metadata": {},
     "output_type": "execute_result"
    }
   ],
   "source": [
    "df_pre.head()"
   ]
  },
  {
   "cell_type": "code",
   "execution_count": 24,
   "id": "f9f7a28b",
   "metadata": {},
   "outputs": [
    {
     "data": {
      "text/html": [
       "<div>\n",
       "<style scoped>\n",
       "    .dataframe tbody tr th:only-of-type {\n",
       "        vertical-align: middle;\n",
       "    }\n",
       "\n",
       "    .dataframe tbody tr th {\n",
       "        vertical-align: top;\n",
       "    }\n",
       "\n",
       "    .dataframe thead th {\n",
       "        text-align: right;\n",
       "    }\n",
       "</style>\n",
       "<table border=\"1\" class=\"dataframe\">\n",
       "  <thead>\n",
       "    <tr style=\"text-align: right;\">\n",
       "      <th></th>\n",
       "      <th>timestamp</th>\n",
       "      <th>energy</th>\n",
       "      <th>dry_temp</th>\n",
       "      <th>relative_humid</th>\n",
       "      <th>glob_hor_rad</th>\n",
       "      <th>direc_norm_rad</th>\n",
       "      <th>diff_hor_rad</th>\n",
       "      <th>wind_dir</th>\n",
       "      <th>wind_speed</th>\n",
       "    </tr>\n",
       "  </thead>\n",
       "  <tbody>\n",
       "    <tr>\n",
       "      <th>0</th>\n",
       "      <td>2019-05-05 00:00:00</td>\n",
       "      <td>19.5214</td>\n",
       "      <td>11.7</td>\n",
       "      <td>74</td>\n",
       "      <td>0</td>\n",
       "      <td>0</td>\n",
       "      <td>0</td>\n",
       "      <td>340</td>\n",
       "      <td>2.6</td>\n",
       "    </tr>\n",
       "    <tr>\n",
       "      <th>1</th>\n",
       "      <td>2019-05-05 00:15:00</td>\n",
       "      <td>19.4886</td>\n",
       "      <td>11.7</td>\n",
       "      <td>74</td>\n",
       "      <td>0</td>\n",
       "      <td>0</td>\n",
       "      <td>0</td>\n",
       "      <td>340</td>\n",
       "      <td>2.6</td>\n",
       "    </tr>\n",
       "    <tr>\n",
       "      <th>2</th>\n",
       "      <td>2019-05-05 00:30:00</td>\n",
       "      <td>19.4064</td>\n",
       "      <td>11.7</td>\n",
       "      <td>74</td>\n",
       "      <td>0</td>\n",
       "      <td>0</td>\n",
       "      <td>0</td>\n",
       "      <td>340</td>\n",
       "      <td>2.6</td>\n",
       "    </tr>\n",
       "    <tr>\n",
       "      <th>3</th>\n",
       "      <td>2019-05-05 00:45:00</td>\n",
       "      <td>19.3502</td>\n",
       "      <td>11.7</td>\n",
       "      <td>74</td>\n",
       "      <td>0</td>\n",
       "      <td>0</td>\n",
       "      <td>0</td>\n",
       "      <td>340</td>\n",
       "      <td>2.6</td>\n",
       "    </tr>\n",
       "    <tr>\n",
       "      <th>4</th>\n",
       "      <td>2019-05-05 01:00:00</td>\n",
       "      <td>19.2804</td>\n",
       "      <td>11.7</td>\n",
       "      <td>72</td>\n",
       "      <td>0</td>\n",
       "      <td>0</td>\n",
       "      <td>0</td>\n",
       "      <td>280</td>\n",
       "      <td>3.1</td>\n",
       "    </tr>\n",
       "  </tbody>\n",
       "</table>\n",
       "</div>"
      ],
      "text/plain": [
       "             timestamp   energy  dry_temp  relative_humid  glob_hor_rad  \\\n",
       "0  2019-05-05 00:00:00  19.5214      11.7              74             0   \n",
       "1  2019-05-05 00:15:00  19.4886      11.7              74             0   \n",
       "2  2019-05-05 00:30:00  19.4064      11.7              74             0   \n",
       "3  2019-05-05 00:45:00  19.3502      11.7              74             0   \n",
       "4  2019-05-05 01:00:00  19.2804      11.7              72             0   \n",
       "\n",
       "   direc_norm_rad  diff_hor_rad  wind_dir  wind_speed  \n",
       "0               0             0       340         2.6  \n",
       "1               0             0       340         2.6  \n",
       "2               0             0       340         2.6  \n",
       "3               0             0       340         2.6  \n",
       "4               0             0       280         3.1  "
      ]
     },
     "execution_count": 24,
     "metadata": {},
     "output_type": "execute_result"
    }
   ],
   "source": [
    "df_post.head()"
   ]
  },
  {
   "cell_type": "markdown",
   "id": "0d484b19",
   "metadata": {},
   "source": [
    "## Fitting MVBEP"
   ]
  },
  {
   "cell_type": "code",
   "execution_count": 13,
   "id": "3ee7a1c8",
   "metadata": {},
   "outputs": [
    {
     "name": "stdout",
     "output_type": "stream",
     "text": [
      "The initialization process is successful and the data is sufficient to build a MVBEP mode.\n"
     ]
    }
   ],
   "source": [
    "mvbep_boulder = MVBEP()\n",
    "mvbep_boulder.fit_training(\n",
    "    data = df_pre,\n",
    "    frequency='15-min'\n",
    ")"
   ]
  },
  {
   "cell_type": "markdown",
   "id": "513fe22f",
   "metadata": {},
   "source": [
    "To check the initialization process, an intialization report is generated. The report is in outputs."
   ]
  },
  {
   "cell_type": "code",
   "execution_count": 14,
   "id": "c0e4afc4",
   "metadata": {},
   "outputs": [],
   "source": [
    "mvbep_boulder.generate_initialization_summary('./outputs/initilization_summary')"
   ]
  },
  {
   "cell_type": "markdown",
   "id": "0875d8af",
   "metadata": {},
   "source": [
    "## Developing the MVBEP Model"
   ]
  },
  {
   "cell_type": "code",
   "execution_count": 15,
   "id": "ceddbcaa",
   "metadata": {},
   "outputs": [
    {
     "name": "stdout",
     "output_type": "stream",
     "text": [
      "Training LR\n",
      "Training RF\n",
      "Training XGB\n",
      "Training SVR\n",
      "Training SLP\n"
     ]
    },
    {
     "name": "stderr",
     "output_type": "stream",
     "text": [
      "C:\\Users\\Abdu Robaie\\anaconda3\\lib\\site-packages\\sklearn\\neural_network\\_multilayer_perceptron.py:614: ConvergenceWarning:\n",
      "\n",
      "Stochastic Optimizer: Maximum iterations (200) reached and the optimization hasn't converged yet.\n",
      "\n"
     ]
    },
    {
     "name": "stdout",
     "output_type": "stream",
     "text": [
      "Training KNN\n",
      "Training LR\n",
      "Training RF\n",
      "Training XGB\n",
      "Training SVR\n",
      "Training SLP\n"
     ]
    },
    {
     "name": "stderr",
     "output_type": "stream",
     "text": [
      "C:\\Users\\Abdu Robaie\\anaconda3\\lib\\site-packages\\sklearn\\neural_network\\_multilayer_perceptron.py:614: ConvergenceWarning:\n",
      "\n",
      "Stochastic Optimizer: Maximum iterations (200) reached and the optimization hasn't converged yet.\n",
      "\n"
     ]
    },
    {
     "name": "stdout",
     "output_type": "stream",
     "text": [
      "Training KNN\n",
      "Training LR\n",
      "Training RF\n",
      "Training XGB\n",
      "Training SVR\n",
      "Training SLP\n",
      "Training KNN\n"
     ]
    },
    {
     "name": "stderr",
     "output_type": "stream",
     "text": [
      "C:\\Users\\Abdu Robaie\\anaconda3\\lib\\site-packages\\sklearn\\neural_network\\_multilayer_perceptron.py:614: ConvergenceWarning:\n",
      "\n",
      "Stochastic Optimizer: Maximum iterations (200) reached and the optimization hasn't converged yet.\n",
      "\n"
     ]
    }
   ],
   "source": [
    "mvbep_boulder.develop_mvbep()"
   ]
  },
  {
   "cell_type": "markdown",
   "id": "c2a34dcc",
   "metadata": {},
   "source": [
    "## Saving the MVBEP State"
   ]
  },
  {
   "cell_type": "code",
   "execution_count": 22,
   "id": "614d94c5",
   "metadata": {},
   "outputs": [],
   "source": [
    "mvbep_boulder.save_mvbep_state('state')"
   ]
  },
  {
   "cell_type": "markdown",
   "id": "177e4796",
   "metadata": {},
   "source": [
    "## Loading the MVBEP State"
   ]
  },
  {
   "cell_type": "code",
   "execution_count": 4,
   "id": "36697588",
   "metadata": {},
   "outputs": [],
   "source": [
    "mvbep_boulder = MVBEP('./outputs/state')"
   ]
  },
  {
   "cell_type": "markdown",
   "id": "70d70fc7",
   "metadata": {},
   "source": [
    "## Generating the Development Report"
   ]
  },
  {
   "cell_type": "code",
   "execution_count": 5,
   "id": "63232180",
   "metadata": {
    "scrolled": true
   },
   "outputs": [
    {
     "data": {
      "application/vnd.jupyter.widget-view+json": {
       "model_id": "ca4a9046b09a48c68e0a73101efd445e",
       "version_major": 2,
       "version_minor": 0
      },
      "text/plain": [
       "  0%|          | 0/91 [00:00<?, ?it/s]"
      ]
     },
     "metadata": {},
     "output_type": "display_data"
    },
    {
     "data": {
      "application/vnd.jupyter.widget-view+json": {
       "model_id": "111866e5c8a54dc48c3a7f2330f94799",
       "version_major": 2,
       "version_minor": 0
      },
      "text/plain": [
       "  0%|          | 0/10 [00:00<?, ?it/s]"
      ]
     },
     "metadata": {},
     "output_type": "display_data"
    }
   ],
   "source": [
    "mvbep_boulder.generate_development_summary('./outputs/development_summary')"
   ]
  },
  {
   "cell_type": "markdown",
   "id": "4f4860c5",
   "metadata": {},
   "source": [
    "## Generating Quantification Report"
   ]
  },
  {
   "cell_type": "code",
   "execution_count": 25,
   "id": "8319ca96",
   "metadata": {},
   "outputs": [
    {
     "name": "stdout",
     "output_type": "stream",
     "text": [
      "The initialization process is successful and the data is sufficient for savings quantification.\n"
     ]
    },
    {
     "data": {
      "application/vnd.jupyter.widget-view+json": {
       "model_id": "057719da81994ad1a07db0bc3a7c9a77",
       "version_major": 2,
       "version_minor": 0
      },
      "text/plain": [
       "  0%|          | 0/1 [00:00<?, ?it/s]"
      ]
     },
     "metadata": {},
     "output_type": "display_data"
    },
    {
     "data": {
      "application/vnd.jupyter.widget-view+json": {
       "model_id": "3d40bf34854e4a4fa74b08307707d394",
       "version_major": 2,
       "version_minor": 0
      },
      "text/plain": [
       "  0%|          | 0/241 [00:00<?, ?it/s]"
      ]
     },
     "metadata": {},
     "output_type": "display_data"
    }
   ],
   "source": [
    "mvbep_boulder.predict_energy_consumption(data = df_post,\n",
    "                                         generate_summary = True,\n",
    "                                         file_name ='./outputs/quantification_summary')"
   ]
  }
 ],
 "metadata": {
  "kernelspec": {
   "display_name": "Python 3 (ipykernel)",
   "language": "python",
   "name": "python3"
  },
  "language_info": {
   "codemirror_mode": {
    "name": "ipython",
    "version": 3
   },
   "file_extension": ".py",
   "mimetype": "text/x-python",
   "name": "python",
   "nbconvert_exporter": "python",
   "pygments_lexer": "ipython3",
   "version": "3.9.7"
  }
 },
 "nbformat": 4,
 "nbformat_minor": 5
}
